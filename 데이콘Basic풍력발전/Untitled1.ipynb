{
 "cells": [
  {
   "cell_type": "code",
   "execution_count": 2,
   "id": "ba7124f7-4a82-4d06-a406-3f6cb10ae961",
   "metadata": {
    "tags": []
   },
   "outputs": [],
   "source": [
    "# 라이브러리 불러오기\n",
    "import numpy as np\n",
    "import pandas as pd\n",
    "import matplotlib.pyplot as plt\n",
    "import seaborn as sns\n",
    "import warnings\n",
    "\n",
    "warnings.filterwarnings(action='ignore')\n",
    "%config InlineBackend.figure_format = 'retina'"
   ]
  },
  {
   "cell_type": "code",
   "execution_count": 3,
   "id": "3f50bf8f-a51b-4179-adaf-eeed495dfc60",
   "metadata": {
    "tags": []
   },
   "outputs": [],
   "source": [
    "# 학습용 데이터 불러오기\n",
    "path = 'train.csv'\n",
    "data1 = pd.read_csv(path)"
   ]
  },
  {
   "cell_type": "code",
   "execution_count": 4,
   "id": "68ed1388-c531-4408-ae9a-bd1dd2c1f0b7",
   "metadata": {
    "tags": []
   },
   "outputs": [],
   "source": [
    "# 평가용 데이터 불러오기\n",
    "path2 = 'test.csv'\n",
    "data2 = pd.read_csv(path2)"
   ]
  },
  {
   "cell_type": "code",
   "execution_count": 5,
   "id": "1d229432-f969-4193-9091-646829fba72a",
   "metadata": {
    "tags": []
   },
   "outputs": [
    {
     "data": {
      "text/html": [
       "<div>\n",
       "<style scoped>\n",
       "    .dataframe tbody tr th:only-of-type {\n",
       "        vertical-align: middle;\n",
       "    }\n",
       "\n",
       "    .dataframe tbody tr th {\n",
       "        vertical-align: top;\n",
       "    }\n",
       "\n",
       "    .dataframe thead th {\n",
       "        text-align: right;\n",
       "    }\n",
       "</style>\n",
       "<table border=\"1\" class=\"dataframe\">\n",
       "  <thead>\n",
       "    <tr style=\"text-align: right;\">\n",
       "      <th></th>\n",
       "      <th>id</th>\n",
       "      <th>temperature</th>\n",
       "      <th>pressure</th>\n",
       "      <th>humidity</th>\n",
       "      <th>wind_speed</th>\n",
       "      <th>wind_direction</th>\n",
       "      <th>precipitation</th>\n",
       "      <th>snowing</th>\n",
       "      <th>cloudiness</th>\n",
       "      <th>target</th>\n",
       "    </tr>\n",
       "  </thead>\n",
       "  <tbody>\n",
       "    <tr>\n",
       "      <th>0</th>\n",
       "      <td>TRAIN_00000</td>\n",
       "      <td>27.8816</td>\n",
       "      <td>1013.6</td>\n",
       "      <td>46.8</td>\n",
       "      <td>2.4</td>\n",
       "      <td>232.4</td>\n",
       "      <td>0.0</td>\n",
       "      <td>False</td>\n",
       "      <td>0.0</td>\n",
       "      <td>1.18</td>\n",
       "    </tr>\n",
       "  </tbody>\n",
       "</table>\n",
       "</div>"
      ],
      "text/plain": [
       "            id  temperature  pressure  humidity  wind_speed  wind_direction  \\\n",
       "0  TRAIN_00000      27.8816    1013.6      46.8         2.4           232.4   \n",
       "\n",
       "   precipitation  snowing  cloudiness  target  \n",
       "0            0.0    False         0.0    1.18  "
      ]
     },
     "execution_count": 5,
     "metadata": {},
     "output_type": "execute_result"
    }
   ],
   "source": [
    "# 학습용 데이터 확인\n",
    "data1.head(1)"
   ]
  },
  {
   "cell_type": "code",
   "execution_count": 6,
   "id": "06bbaefe-0a32-4fe2-8a15-1d0b18468cfd",
   "metadata": {
    "tags": []
   },
   "outputs": [
    {
     "data": {
      "text/html": [
       "<div>\n",
       "<style scoped>\n",
       "    .dataframe tbody tr th:only-of-type {\n",
       "        vertical-align: middle;\n",
       "    }\n",
       "\n",
       "    .dataframe tbody tr th {\n",
       "        vertical-align: top;\n",
       "    }\n",
       "\n",
       "    .dataframe thead th {\n",
       "        text-align: right;\n",
       "    }\n",
       "</style>\n",
       "<table border=\"1\" class=\"dataframe\">\n",
       "  <thead>\n",
       "    <tr style=\"text-align: right;\">\n",
       "      <th></th>\n",
       "      <th>count</th>\n",
       "      <th>mean</th>\n",
       "      <th>std</th>\n",
       "      <th>min</th>\n",
       "      <th>25%</th>\n",
       "      <th>50%</th>\n",
       "      <th>75%</th>\n",
       "      <th>max</th>\n",
       "    </tr>\n",
       "  </thead>\n",
       "  <tbody>\n",
       "    <tr>\n",
       "      <th>temperature</th>\n",
       "      <td>19275.0</td>\n",
       "      <td>17.288476</td>\n",
       "      <td>7.192604</td>\n",
       "      <td>-0.208137</td>\n",
       "      <td>11.712</td>\n",
       "      <td>16.530</td>\n",
       "      <td>22.5590</td>\n",
       "      <td>37.058</td>\n",
       "    </tr>\n",
       "    <tr>\n",
       "      <th>pressure</th>\n",
       "      <td>19275.0</td>\n",
       "      <td>1059.825712</td>\n",
       "      <td>2544.132430</td>\n",
       "      <td>812.600000</td>\n",
       "      <td>1012.600</td>\n",
       "      <td>1016.800</td>\n",
       "      <td>1021.0000</td>\n",
       "      <td>201373.000</td>\n",
       "    </tr>\n",
       "    <tr>\n",
       "      <th>humidity</th>\n",
       "      <td>19275.0</td>\n",
       "      <td>68.948763</td>\n",
       "      <td>14.856929</td>\n",
       "      <td>22.600000</td>\n",
       "      <td>57.800</td>\n",
       "      <td>70.800</td>\n",
       "      <td>80.8000</td>\n",
       "      <td>100.000</td>\n",
       "    </tr>\n",
       "    <tr>\n",
       "      <th>wind_speed</th>\n",
       "      <td>19275.0</td>\n",
       "      <td>2.476970</td>\n",
       "      <td>1.359942</td>\n",
       "      <td>0.000000</td>\n",
       "      <td>1.400</td>\n",
       "      <td>2.200</td>\n",
       "      <td>3.2000</td>\n",
       "      <td>29.800</td>\n",
       "    </tr>\n",
       "    <tr>\n",
       "      <th>wind_direction</th>\n",
       "      <td>19275.0</td>\n",
       "      <td>166.578179</td>\n",
       "      <td>57.313099</td>\n",
       "      <td>0.000000</td>\n",
       "      <td>127.000</td>\n",
       "      <td>166.600</td>\n",
       "      <td>208.0000</td>\n",
       "      <td>338.000</td>\n",
       "    </tr>\n",
       "    <tr>\n",
       "      <th>precipitation</th>\n",
       "      <td>19275.0</td>\n",
       "      <td>0.076572</td>\n",
       "      <td>0.193110</td>\n",
       "      <td>0.000000</td>\n",
       "      <td>0.000</td>\n",
       "      <td>0.000</td>\n",
       "      <td>0.0600</td>\n",
       "      <td>3.180</td>\n",
       "    </tr>\n",
       "    <tr>\n",
       "      <th>cloudiness</th>\n",
       "      <td>19275.0</td>\n",
       "      <td>25.749748</td>\n",
       "      <td>17.628612</td>\n",
       "      <td>0.000000</td>\n",
       "      <td>12.000</td>\n",
       "      <td>23.000</td>\n",
       "      <td>37.0000</td>\n",
       "      <td>93.600</td>\n",
       "    </tr>\n",
       "    <tr>\n",
       "      <th>target</th>\n",
       "      <td>19275.0</td>\n",
       "      <td>5.477028</td>\n",
       "      <td>3.217581</td>\n",
       "      <td>0.000000</td>\n",
       "      <td>2.956</td>\n",
       "      <td>4.837</td>\n",
       "      <td>7.4365</td>\n",
       "      <td>17.344</td>\n",
       "    </tr>\n",
       "  </tbody>\n",
       "</table>\n",
       "</div>"
      ],
      "text/plain": [
       "                  count         mean          std         min       25%  \\\n",
       "temperature     19275.0    17.288476     7.192604   -0.208137    11.712   \n",
       "pressure        19275.0  1059.825712  2544.132430  812.600000  1012.600   \n",
       "humidity        19275.0    68.948763    14.856929   22.600000    57.800   \n",
       "wind_speed      19275.0     2.476970     1.359942    0.000000     1.400   \n",
       "wind_direction  19275.0   166.578179    57.313099    0.000000   127.000   \n",
       "precipitation   19275.0     0.076572     0.193110    0.000000     0.000   \n",
       "cloudiness      19275.0    25.749748    17.628612    0.000000    12.000   \n",
       "target          19275.0     5.477028     3.217581    0.000000     2.956   \n",
       "\n",
       "                     50%        75%         max  \n",
       "temperature       16.530    22.5590      37.058  \n",
       "pressure        1016.800  1021.0000  201373.000  \n",
       "humidity          70.800    80.8000     100.000  \n",
       "wind_speed         2.200     3.2000      29.800  \n",
       "wind_direction   166.600   208.0000     338.000  \n",
       "precipitation      0.000     0.0600       3.180  \n",
       "cloudiness        23.000    37.0000      93.600  \n",
       "target             4.837     7.4365      17.344  "
      ]
     },
     "execution_count": 6,
     "metadata": {},
     "output_type": "execute_result"
    }
   ],
   "source": [
    "data1.describe().T"
   ]
  },
  {
   "cell_type": "code",
   "execution_count": 7,
   "id": "cf876975-da98-4c54-ba0a-8cf45591d741",
   "metadata": {
    "tags": []
   },
   "outputs": [
    {
     "name": "stdout",
     "output_type": "stream",
     "text": [
      "<class 'pandas.core.frame.DataFrame'>\n",
      "RangeIndex: 19275 entries, 0 to 19274\n",
      "Data columns (total 10 columns):\n",
      " #   Column          Non-Null Count  Dtype  \n",
      "---  ------          --------------  -----  \n",
      " 0   id              19275 non-null  object \n",
      " 1   temperature     19275 non-null  float64\n",
      " 2   pressure        19275 non-null  float64\n",
      " 3   humidity        19275 non-null  float64\n",
      " 4   wind_speed      19275 non-null  float64\n",
      " 5   wind_direction  19275 non-null  float64\n",
      " 6   precipitation   19275 non-null  float64\n",
      " 7   snowing         19275 non-null  bool   \n",
      " 8   cloudiness      19275 non-null  float64\n",
      " 9   target          19275 non-null  float64\n",
      "dtypes: bool(1), float64(8), object(1)\n",
      "memory usage: 1.3+ MB\n"
     ]
    }
   ],
   "source": [
    "data1.info()"
   ]
  },
  {
   "cell_type": "code",
   "execution_count": 8,
   "id": "1a3c467c-24a9-4092-a512-4dada3570606",
   "metadata": {
    "tags": []
   },
   "outputs": [
    {
     "data": {
      "text/html": [
       "<div>\n",
       "<style scoped>\n",
       "    .dataframe tbody tr th:only-of-type {\n",
       "        vertical-align: middle;\n",
       "    }\n",
       "\n",
       "    .dataframe tbody tr th {\n",
       "        vertical-align: top;\n",
       "    }\n",
       "\n",
       "    .dataframe thead th {\n",
       "        text-align: right;\n",
       "    }\n",
       "</style>\n",
       "<table border=\"1\" class=\"dataframe\">\n",
       "  <thead>\n",
       "    <tr style=\"text-align: right;\">\n",
       "      <th></th>\n",
       "      <th>id</th>\n",
       "      <th>temperature</th>\n",
       "      <th>pressure</th>\n",
       "      <th>humidity</th>\n",
       "      <th>wind_speed</th>\n",
       "      <th>wind_direction</th>\n",
       "      <th>precipitation</th>\n",
       "      <th>snowing</th>\n",
       "      <th>cloudiness</th>\n",
       "    </tr>\n",
       "  </thead>\n",
       "  <tbody>\n",
       "    <tr>\n",
       "      <th>0</th>\n",
       "      <td>TEST_00000</td>\n",
       "      <td>20.702</td>\n",
       "      <td>1021.0</td>\n",
       "      <td>76.4</td>\n",
       "      <td>2.0</td>\n",
       "      <td>104.8</td>\n",
       "      <td>0.0</td>\n",
       "      <td>False</td>\n",
       "      <td>23.0</td>\n",
       "    </tr>\n",
       "  </tbody>\n",
       "</table>\n",
       "</div>"
      ],
      "text/plain": [
       "           id  temperature  pressure  humidity  wind_speed  wind_direction  \\\n",
       "0  TEST_00000       20.702    1021.0      76.4         2.0           104.8   \n",
       "\n",
       "   precipitation  snowing  cloudiness  \n",
       "0            0.0    False        23.0  "
      ]
     },
     "execution_count": 8,
     "metadata": {},
     "output_type": "execute_result"
    }
   ],
   "source": [
    "# 평가용 데이터 확인\n",
    "data2.head(1)"
   ]
  },
  {
   "cell_type": "markdown",
   "id": "dff7664f-195b-4693-9eac-859e22a34820",
   "metadata": {},
   "source": [
    "# 1. 데이터 전처리"
   ]
  },
  {
   "cell_type": "code",
   "execution_count": 9,
   "id": "815debe9-5182-4525-98bc-7ab5237ccbfd",
   "metadata": {
    "tags": []
   },
   "outputs": [
    {
     "data": {
      "text/html": [
       "<div>\n",
       "<style scoped>\n",
       "    .dataframe tbody tr th:only-of-type {\n",
       "        vertical-align: middle;\n",
       "    }\n",
       "\n",
       "    .dataframe tbody tr th {\n",
       "        vertical-align: top;\n",
       "    }\n",
       "\n",
       "    .dataframe thead th {\n",
       "        text-align: right;\n",
       "    }\n",
       "</style>\n",
       "<table border=\"1\" class=\"dataframe\">\n",
       "  <thead>\n",
       "    <tr style=\"text-align: right;\">\n",
       "      <th></th>\n",
       "      <th>temperature</th>\n",
       "      <th>pressure</th>\n",
       "      <th>humidity</th>\n",
       "      <th>wind_speed</th>\n",
       "      <th>wind_direction</th>\n",
       "      <th>precipitation</th>\n",
       "      <th>snowing</th>\n",
       "      <th>cloudiness</th>\n",
       "      <th>target</th>\n",
       "    </tr>\n",
       "  </thead>\n",
       "  <tbody>\n",
       "    <tr>\n",
       "      <th>0</th>\n",
       "      <td>27.8816</td>\n",
       "      <td>1013.6</td>\n",
       "      <td>46.8</td>\n",
       "      <td>2.4</td>\n",
       "      <td>232.4</td>\n",
       "      <td>0.0</td>\n",
       "      <td>False</td>\n",
       "      <td>0.0</td>\n",
       "      <td>1.18</td>\n",
       "    </tr>\n",
       "  </tbody>\n",
       "</table>\n",
       "</div>"
      ],
      "text/plain": [
       "   temperature  pressure  humidity  wind_speed  wind_direction  precipitation  \\\n",
       "0      27.8816    1013.6      46.8         2.4           232.4            0.0   \n",
       "\n",
       "   snowing  cloudiness  target  \n",
       "0    False         0.0    1.18  "
      ]
     },
     "execution_count": 9,
     "metadata": {},
     "output_type": "execute_result"
    }
   ],
   "source": [
    "data1 = data1.drop('id',axis=1)\n",
    "data1.head(1)"
   ]
  },
  {
   "cell_type": "code",
   "execution_count": 10,
   "id": "0ae56f7f-8bd3-4db6-a589-80cddb2eaaa8",
   "metadata": {
    "tags": []
   },
   "outputs": [
    {
     "data": {
      "text/html": [
       "<div>\n",
       "<style scoped>\n",
       "    .dataframe tbody tr th:only-of-type {\n",
       "        vertical-align: middle;\n",
       "    }\n",
       "\n",
       "    .dataframe tbody tr th {\n",
       "        vertical-align: top;\n",
       "    }\n",
       "\n",
       "    .dataframe thead th {\n",
       "        text-align: right;\n",
       "    }\n",
       "</style>\n",
       "<table border=\"1\" class=\"dataframe\">\n",
       "  <thead>\n",
       "    <tr style=\"text-align: right;\">\n",
       "      <th></th>\n",
       "      <th>temperature</th>\n",
       "      <th>pressure</th>\n",
       "      <th>humidity</th>\n",
       "      <th>wind_speed</th>\n",
       "      <th>wind_direction</th>\n",
       "      <th>precipitation</th>\n",
       "      <th>cloudiness</th>\n",
       "      <th>target</th>\n",
       "      <th>snowing_True</th>\n",
       "    </tr>\n",
       "  </thead>\n",
       "  <tbody>\n",
       "    <tr>\n",
       "      <th>0</th>\n",
       "      <td>27.8816</td>\n",
       "      <td>1013.6</td>\n",
       "      <td>46.8</td>\n",
       "      <td>2.4</td>\n",
       "      <td>232.4</td>\n",
       "      <td>0.0</td>\n",
       "      <td>0.0</td>\n",
       "      <td>1.18</td>\n",
       "      <td>0</td>\n",
       "    </tr>\n",
       "  </tbody>\n",
       "</table>\n",
       "</div>"
      ],
      "text/plain": [
       "   temperature  pressure  humidity  wind_speed  wind_direction  precipitation  \\\n",
       "0      27.8816    1013.6      46.8         2.4           232.4            0.0   \n",
       "\n",
       "   cloudiness  target  snowing_True  \n",
       "0         0.0    1.18             0  "
      ]
     },
     "execution_count": 10,
     "metadata": {},
     "output_type": "execute_result"
    }
   ],
   "source": [
    "# 가변수화\n",
    "dumm_cols = ['snowing']\n",
    "data1 = pd.get_dummies(data1,columns=dumm_cols,drop_first=True)\n",
    "data1.head(1)"
   ]
  },
  {
   "cell_type": "code",
   "execution_count": 11,
   "id": "55ca9b39-6b06-4919-b5e5-ba1ff6d102fd",
   "metadata": {
    "tags": []
   },
   "outputs": [],
   "source": [
    "# x,y 분리\n",
    "target = 'target'\n",
    "x = data1.drop(target,axis=1)\n",
    "y = data1.loc[:,target]"
   ]
  },
  {
   "cell_type": "code",
   "execution_count": 12,
   "id": "ac0d7a5a-dec3-4230-897e-12b8d5c7f11f",
   "metadata": {
    "tags": []
   },
   "outputs": [],
   "source": [
    "# 학습용, 평가용 데이터 분리\n",
    "from sklearn.model_selection import train_test_split\n",
    "x_train,x_val,y_train,y_val = train_test_split(x,y,test_size=0.1,random_state=1)"
   ]
  },
  {
   "cell_type": "code",
   "execution_count": 13,
   "id": "b0a7d384-a63c-48b5-9a2e-3dd5b6bbd491",
   "metadata": {
    "tags": []
   },
   "outputs": [],
   "source": [
    "# 데이터 정규화\n",
    "from sklearn.preprocessing import MinMaxScaler\n",
    "\n",
    "scaler = MinMaxScaler()\n",
    "scaler.fit(x_train)\n",
    "x_train_s = scaler.transform(x_train)\n",
    "x_val_s = scaler.transform(x_val)"
   ]
  },
  {
   "cell_type": "markdown",
   "id": "17b4c57a-b375-4113-adbc-9d9694f6aef1",
   "metadata": {},
   "source": [
    "# 2. 성능 예측"
   ]
  },
  {
   "cell_type": "code",
   "execution_count": 14,
   "id": "29c1d2a4-14b1-480b-a60d-6ff3f7f581ba",
   "metadata": {
    "tags": []
   },
   "outputs": [],
   "source": [
    "# 불러오기\n",
    "from sklearn.linear_model import LinearRegression\n",
    "from sklearn.neighbors import KNeighborsRegressor\n",
    "from sklearn.tree import DecisionTreeRegressor\n",
    "from sklearn.svm import SVR\n",
    "from xgboost import XGBRegressor\n",
    "from lightgbm import LGBMRegressor\n",
    "from sklearn.ensemble import RandomForestRegressor\n",
    "from sklearn.model_selection import GridSearchCV, cross_val_score,RandomizedSearchCV,GridSearchCV\n",
    "\n",
    "from sklearn.metrics import *"
   ]
  },
  {
   "cell_type": "code",
   "execution_count": 15,
   "id": "63c71ec3-996b-4628-8815-6753942f6610",
   "metadata": {
    "tags": []
   },
   "outputs": [
    {
     "name": "stdout",
     "output_type": "stream",
     "text": [
      "[0.14222208 0.13779577 0.13983364 0.13623216 0.13464562 0.14622926\n",
      " 0.13568656 0.15428569 0.16909949 0.1526919 ]\n"
     ]
    }
   ],
   "source": [
    "# 1. LinearRegression()\n",
    "model_dt = LinearRegression()\n",
    "cv_score = cross_val_score(model_dt,x_train,y_train,cv=10)\n",
    "print(cv_score)\n",
    "result={}\n",
    "result['LinearRegression'] = cv_score.mean()"
   ]
  },
  {
   "cell_type": "code",
   "execution_count": 16,
   "id": "429368b6-247f-4788-b6ce-845c58546c3d",
   "metadata": {
    "tags": []
   },
   "outputs": [
    {
     "name": "stdout",
     "output_type": "stream",
     "text": [
      "[0.09832041 0.05522572 0.07446084 0.03023124 0.07280245 0.08220112\n",
      " 0.03347823 0.06644799 0.0587119  0.07749054]\n"
     ]
    }
   ],
   "source": [
    "# 2. KNN\n",
    "model_dt = KNeighborsRegressor(n_neighbors=5)\n",
    "cv_score = cross_val_score(model_dt,x_train,y_train,cv=10)\n",
    "print(cv_score)\n",
    "result['KNN'] = cv_score.mean()"
   ]
  },
  {
   "cell_type": "code",
   "execution_count": 17,
   "id": "7207128b-eba6-4eff-9e7a-230d0ddc40f9",
   "metadata": {
    "tags": []
   },
   "outputs": [
    {
     "name": "stdout",
     "output_type": "stream",
     "text": [
      "[0.15170974 0.1590762  0.12618952 0.14820625 0.1317819  0.15434592\n",
      " 0.15707744 0.14515467 0.16369245 0.1562903 ]\n"
     ]
    }
   ],
   "source": [
    "# 3. Decision Tree\n",
    "model_dt = DecisionTreeRegressor(max_depth=5,random_state=1)\n",
    "cv_score = cross_val_score(model_dt,x_train,y_train,cv=10)\n",
    "print(cv_score)\n",
    "result['DecisionTree'] = cv_score.mean()"
   ]
  },
  {
   "cell_type": "code",
   "execution_count": null,
   "id": "f31d9c1f-8ae4-4193-9f04-ac7acb29baa0",
   "metadata": {
    "tags": []
   },
   "outputs": [],
   "source": [
    "# 4. SVM\n",
    "model_dt = SVR(kernel='linear',C=5)\n",
    "cv_score = cross_val_score(model_dt,x_train,y_train,cv=10)\n",
    "print(cv_score)\n",
    "result['SVM'] = cv_score.mean()"
   ]
  },
  {
   "cell_type": "code",
   "execution_count": null,
   "id": "02970408-1d9e-4518-87ea-09b412dc9e20",
   "metadata": {},
   "outputs": [],
   "source": [
    "model_dt = \n",
    "cv_score = cross_val_score(model_dt,x_train,y_train,cv=10)\n",
    "print(cv_score)\n",
    "result[''] = cv_score.mean()"
   ]
  },
  {
   "cell_type": "code",
   "execution_count": null,
   "id": "6184da23-2414-4e53-bf49-5cef3e141c4e",
   "metadata": {},
   "outputs": [],
   "source": [
    "model_dt = \n",
    "cv_score = cross_val_score(model_dt,x_train,y_train,cv=10)\n",
    "print(cv_score)\n",
    "result[''] = cv_score.mean()"
   ]
  },
  {
   "cell_type": "code",
   "execution_count": null,
   "id": "6b344f87-8a44-4c0a-8cbe-941f5697f5b4",
   "metadata": {},
   "outputs": [],
   "source": [
    "model_dt = \n",
    "cv_score = cross_val_score(model_dt,x_train,y_train,cv=10)\n",
    "print(cv_score)\n",
    "result[''] = cv_score.mean()"
   ]
  }
 ],
 "metadata": {
  "kernelspec": {
   "display_name": "Python 3 (ipykernel)",
   "language": "python",
   "name": "python3"
  },
  "language_info": {
   "codemirror_mode": {
    "name": "ipython",
    "version": 3
   },
   "file_extension": ".py",
   "mimetype": "text/x-python",
   "name": "python",
   "nbconvert_exporter": "python",
   "pygments_lexer": "ipython3",
   "version": "3.9.13"
  }
 },
 "nbformat": 4,
 "nbformat_minor": 5
}
